{
 "cells": [
  {
   "cell_type": "code",
   "execution_count": 3,
   "metadata": {},
   "outputs": [],
   "source": [
    "from turtle import *\n",
    "COLORS = ['red', 'orange', 'yellow', 'green', 'blue', 'purple']\n",
    "\n",
    "def create_race(colors):\n",
    "    screen = Screen()\n",
    "    screen.setup(width=600, height=600)\n",
    "    # user_bet = screen.textinput(title='Make your bet', prompt='Which turtle will win the race? Enter a color')\n",
    "    for x in range(len(colors)):\n",
    "        newturtle = Turtle(shape = 'turtle')\n",
    "        X = (-screen.window_width() / 2) + 50\n",
    "        Y = (len(colors)) / 2 #(x * 50)\n",
    "        newturtle.color = colors[x]\n",
    "        newturtle.shape(\"turtle\")\n",
    "        # newturtle.penup()\n",
    "        newturtle.goto(X,Y)\n",
    "        # newturtle.pendown()\n",
    "    screen.exitonclick()"
   ]
  },
  {
   "cell_type": "code",
   "execution_count": null,
   "id": "9f819b2a",
   "metadata": {},
   "outputs": [],
   "source": [
    "create_race(COLORS)"
   ]
  }
 ],
 "metadata": {
  "kernelspec": {
   "display_name": "Python 3.10.6 64-bit",
   "language": "python",
   "name": "python3"
  },
  "language_info": {
   "codemirror_mode": {
    "name": "ipython",
    "version": 3
   },
   "file_extension": ".py",
   "mimetype": "text/x-python",
   "name": "python",
   "nbconvert_exporter": "python",
   "pygments_lexer": "ipython3",
   "version": "3.10.6"
  },
  "vscode": {
   "interpreter": {
    "hash": "916dbcbb3f70747c44a77c7bcd40155683ae19c65e1c03b4aa3499c5328201f1"
   }
  }
 },
 "nbformat": 4,
 "nbformat_minor": 5
}
